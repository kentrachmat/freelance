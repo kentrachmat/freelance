{
 "cells": [
  {
   "cell_type": "markdown",
   "metadata": {},
   "source": [
    "# Graphs"
   ]
  },
  {
   "cell_type": "markdown",
   "metadata": {},
   "source": [
    "A graph is a collection of <b>veritices</b> (nodes) connected with <b>edges</b>. This is an example\n",
    "\n",
    "<img src=\"https://upload.wikimedia.org/wikipedia/commons/thumb/5/5b/6n-graf.svg/1920px-6n-graf.svg.png\" width=200 align=left>"
   ]
  },
  {
   "cell_type": "markdown",
   "metadata": {},
   "source": [
    "The graph can be <b>directed</b>, when the edges have a direction (and in this case there can be two edges connecting a couple of nodes) or <b>undirected</b>.\n",
    "\n",
    "Edges can have weights assigned to them whose meaning depend on what the graph represent. They could be costs, gains, sizes, capacities...\n",
    "\n",
    "<img src=\"https://upload.wikimedia.org/wikipedia/commons/9/9a/Weighted_network.png\" align=left>"
   ]
  },
  {
   "cell_type": "markdown",
   "metadata": {},
   "source": [
    "I think it is not necessary to say that graphs can represent millions of situations in real life, ranging from abstract knowledges schemas to railroad or electrical networks, from a company's organization to social networks, from  recommendation systems to decisions schemas."
   ]
  },
  {
   "cell_type": "markdown",
   "metadata": {},
   "source": [
    "## Representing graphs"
   ]
  },
  {
   "cell_type": "markdown",
   "metadata": {},
   "source": [
    "How do we represent a graph inside a computer program? Well, it is very easy, with a matrix where each row represents all the edges going out from a node towards the other ones. If the value is 0 it means no edge, if the value is 1 it means that there is an edge. For example, the first graph can be represented with\n",
    "<pre>\n",
    "[\n",
    "[0,1,0,0,1,0],\n",
    "[1,0,1,0,1,0],\n",
    "[0,1,0,1,0,0],\n",
    "[0,0,1,0,1,1],\n",
    "[1,1,0,1,0,0],\n",
    "[0,0,0,1,0,0]\n",
    "]\n",
    "</pre>  \n",
    "where the first row indicates that the first node is connected with the second and the fifth one. This is called <b>adjacency matrix</b>.\n",
    "\n",
    "The second graph can be represented indicating the weights instead of ones (vertices are from left to right):\n",
    "<pre>\n",
    "[\n",
    "[0,4,4,0,0,0,0,0,0,0],\n",
    "[4,0,2,0,1,0,0,0,0,0],\n",
    "[4,2,0,1,0,0,0,0,0,0],\n",
    "[0,0,1,0,0,4,0,0,0,0],\n",
    "[0,1,0,0,0,2,1,0,0,0],\n",
    "[0,0,0,4,2,0,0,0,0,0],\n",
    "[0,0,0,0,1,0,0,0,3,0],\n",
    "[0,0,0,0,0,0,0,0,3,4],\n",
    "[0,0,0,0,0,0,3,3,0,2],\n",
    "[0,0,0,0,0,0,0,4,2,0]\n",
    "]\n",
    "</pre>\n",
    "\n",
    "Since the graph are undirected, these matrices are always symmetric, i.e. the i,j element is identical to the j,i element. Moreover, unless a vertex has an edge going back to itself, the adjacency matrix will have always 0 on the diagonal."
   ]
  },
  {
   "cell_type": "markdown",
   "metadata": {},
   "source": [
    "A tree, as the ones seen in the previous lessons, is a special type of graph where a vertex is identified as <b>root</b> and where circular connections are forbidden. In this way vertices can have a depth, i.e. their distance from the root.\n",
    "\n",
    "<img src=\"https://www.gatevidyalay.com/wp-content/uploads/2018/07/Tree-Data-Structure-Example.png\" size=300 align=left>"
   ]
  },
  {
   "cell_type": "markdown",
   "metadata": {},
   "source": [
    "As an exercise you could write down the matrices of these two graphs"
   ]
  },
  {
   "cell_type": "code",
   "execution_count": 3,
   "metadata": {},
   "outputs": [
    {
     "name": "stdout",
     "output_type": "stream",
     "text": [
      "[[0, 1, 1, 0, 0], [1, 0, 0, 0, 0], [1, 0, 0, 1, 1], [0, 0, 1, 0, 0], [0, 0, 1, 0, 0]]\n"
     ]
    }
   ],
   "source": [
    "names=[\"A\",\"B\",\"C\",\"D\",\"E\"]\n",
    "tree=[\n",
    "    [0,1,1,0,0],\n",
    "    [1,0,0,0,0],\n",
    "    [1,0,0,1,1],\n",
    "    [0,0,1,0,0],\n",
    "    [0,0,1,0,0]\n",
    "]\n",
    "print(tree)"
   ]
  },
  {
   "cell_type": "code",
   "execution_count": 4,
   "metadata": {},
   "outputs": [
    {
     "name": "stdout",
     "output_type": "stream",
     "text": [
      "[[0, 1, 1, 0, 0], [1, 0, 0, 0, 0], [1, 0, 0, 1, 1], [0, 0, 1, 0, 1], [0, 0, 1, 1, 0]]\n"
     ]
    }
   ],
   "source": [
    "names=[\"A\",\"B\",\"C\",\"D\",\"E\"]\n",
    "notTree=[\n",
    "    [0,1,1,0,0],\n",
    "    [1,0,0,0,0],\n",
    "    [1,0,0,1,1],\n",
    "    [0,0,1,0,1],\n",
    "    [0,0,1,1,0]\n",
    "    \n",
    "]\n",
    "print(notTree)"
   ]
  },
  {
   "cell_type": "markdown",
   "metadata": {},
   "source": [
    "## numpy package"
   ]
  },
  {
   "cell_type": "markdown",
   "metadata": {},
   "source": [
    "The <b>numpy</b> package is a very powerful mathematical package for Python language. Do not worry, we are just going to use two of its tools.\n",
    "\n",
    "Instead of printing with <font color=GREEN>print tree</font>, a nicer way to print the matrix is using the matrix object from numpy package:"
   ]
  },
  {
   "cell_type": "code",
   "execution_count": 5,
   "metadata": {
    "scrolled": true
   },
   "outputs": [
    {
     "name": "stdout",
     "output_type": "stream",
     "text": [
      "[[0 1 1 0 0]\n",
      " [1 0 0 0 0]\n",
      " [1 0 0 1 1]\n",
      " [0 0 1 0 0]\n",
      " [0 0 1 0 0]]\n",
      "[[0 1 1 0 0]\n",
      " [1 0 0 0 0]\n",
      " [1 0 0 1 1]\n",
      " [0 0 1 0 1]\n",
      " [0 0 1 1 0]]\n"
     ]
    }
   ],
   "source": [
    "import numpy\n",
    "print(numpy.matrix(tree))\n",
    "print(numpy.matrix(notTree))"
   ]
  },
  {
   "cell_type": "markdown",
   "metadata": {},
   "source": [
    "The numpy package also has a useful function <font color=GREEN>zeros</font> which works as\n",
    "<pre>\n",
    "< matrix> < - numpy.zeros((< int>,< int>))\n",
    "</pre>\n",
    "to create a < int> by < int> matrix full of zeroes.\n",
    "\n",
    "To convert that matrix back to a list of lists, just use the <font color=GREEN>.tolist()</font> method of a matrix\n",
    "<pre>\n",
    "< list> < - < matrix>.tolist()\n",
    "</pre>"
   ]
  },
  {
   "cell_type": "code",
   "execution_count": 6,
   "metadata": {},
   "outputs": [
    {
     "name": "stdout",
     "output_type": "stream",
     "text": [
      "[[0. 0. 0. 0. 0. 0. 0. 0. 0. 0. 0. 0. 0. 0. 0.]\n",
      " [0. 0. 0. 0. 0. 0. 0. 0. 0. 0. 0. 0. 0. 0. 0.]\n",
      " [0. 0. 0. 0. 0. 0. 0. 0. 0. 0. 0. 0. 0. 0. 0.]\n",
      " [0. 0. 0. 0. 0. 0. 0. 0. 0. 0. 0. 0. 0. 0. 0.]\n",
      " [0. 0. 0. 0. 0. 0. 0. 0. 0. 0. 0. 0. 0. 0. 0.]\n",
      " [0. 0. 0. 0. 0. 0. 0. 0. 0. 0. 0. 0. 0. 0. 0.]\n",
      " [0. 0. 0. 0. 0. 0. 0. 0. 0. 0. 0. 0. 0. 0. 0.]\n",
      " [0. 0. 0. 0. 0. 0. 0. 0. 0. 0. 0. 0. 0. 0. 0.]\n",
      " [0. 0. 0. 0. 0. 0. 0. 0. 0. 0. 0. 0. 0. 0. 0.]\n",
      " [0. 0. 0. 0. 0. 0. 0. 0. 0. 0. 0. 0. 0. 0. 0.]\n",
      " [0. 0. 0. 0. 0. 0. 0. 0. 0. 0. 0. 0. 0. 0. 0.]\n",
      " [0. 0. 0. 0. 0. 0. 0. 0. 0. 0. 0. 0. 0. 0. 0.]\n",
      " [0. 0. 0. 0. 0. 0. 0. 0. 0. 0. 0. 0. 0. 0. 0.]\n",
      " [0. 0. 0. 0. 0. 0. 0. 0. 0. 0. 0. 0. 0. 0. 0.]\n",
      " [0. 0. 0. 0. 0. 0. 0. 0. 0. 0. 0. 0. 0. 0. 0.]]\n"
     ]
    }
   ],
   "source": [
    "print(numpy.zeros((15,15)))"
   ]
  },
  {
   "cell_type": "code",
   "execution_count": null,
   "metadata": {},
   "outputs": [],
   "source": []
  },
  {
   "cell_type": "code",
   "execution_count": 19,
   "metadata": {
    "scrolled": true
   },
   "outputs": [
    {
     "name": "stdout",
     "output_type": "stream",
     "text": [
      "[[0.0, 0.0, 0.0, 0.0], [0.0, 0.0, 0.0, 0.0], [0.0, 0.0, 0.0, 0.0], [0.0, 0.0, 0.0, 0.0]]\n"
     ]
    }
   ],
   "source": [
    "a=numpy.zeros((4,4)).tolist()\n",
    "print(a)"
   ]
  },
  {
   "cell_type": "markdown",
   "metadata": {},
   "source": [
    "## Paths"
   ]
  },
  {
   "cell_type": "markdown",
   "metadata": {},
   "source": [
    "In a graph it is interesting to search for <b>paths</b> between two nodes. For example in the first picture the paths between 1 and 3 are:\n",
    "- 1 2 3\n",
    "- 1 5 4 3\n",
    "- 1 5 2 3\n",
    "- 1 2 5 4 3\n",
    "\n",
    "Note that a path such as 1 5 4 6 4 3 in theory leads from 1 to 3, but we do not consider paths which pass more than one time through the same vertex, otherwise the amount of possible paths would be infinite (1 5 4 6 4 6 4 3, 1 5 4 6 4 6 4 6 4 3, 1 5 4 6 4 6 4 6 4 6 4 3...) and they all can be shortened cutting the useless loops."
   ]
  },
  {
   "cell_type": "markdown",
   "metadata": {},
   "source": [
    "A path has a <b>length</b>, i.e. the number of edges it passes through. In the previous list the lengths are 2, 3, 3, 4."
   ]
  },
  {
   "cell_type": "markdown",
   "metadata": {},
   "source": [
    "A common problem for graphs is finding all the paths between two vertices, the task that we did manually here above.\n",
    "\n",
    "We call the starting vertex the <b>source</b> and the ending vertex the <b>destination</b>. We use a <b>breadth-first</b> algorithm. This is an algorithm which is similar to backtracking but it explores all the elements of the same depth in the decision tree before going down one step. This is because in this case we want to know all the possible solutions and not just one and thus it is not worthwhile to rush down to the leaves.\n",
    "\n",
    "Let's keep as example finding all the paths from 1 to 3 of the first graph. We start from the source which is vertex 1 and put it in the decision tree.\n",
    "\n",
    "Now we see how many edges start from there. Look at the matrix first row [0,1,0,0,1,0]. This indicates that from 1 you can go to 2 and to 5. Thus we build two branches, one which goes to 2 indicated as [1,2] and another one which goes to 5 indicated as [1,5]. Both are inserted at depth 1. Note that in this case the depth in the decision tree corresponds to the length of the path.\n",
    "\n",
    "We then explore <u>all</u> the branches at depth 1. We take [1,2] which is at vertex 2 and from the second row of the matrix [1,0,1,0,1,0] we see that we can go back to 1 resulting in [1,2,1], go to 3 as [1,2,3] or go to 5 as [1,2,5]. The first path must be dropped because it is making a loop, i.e. it is returning to a previous vertex. We put the other two in the tree.\n",
    "\n",
    "But this depth is not over. Since the algorithm is breadth-first we have to examine all the branches of the current depth and thus also the one which arrives at 5. From the matrix [1,1,0,1,0,0] we see that from 5 we can go back to 1 [1,5,1], to 2 [1,5,2], to 4 [1,5,4]. We drop the first one because it loops and keep the other two in the decision tree.\n",
    "\n",
    "Now we go down to depth 2. At this depth we find four paths [1,2,3], [1,2,5], [1,5,2] and [1,5,4]. We analyse the first one and find out that it has arrived, so it can be stopped here and written in the list of all the possible paths. The second path is at vertex 5 whose row in the matrix is [1,1,0,1,0,0] and it can go back to 1 [1,2,5,1], back to 2 [1,2,5,2] or to 4 [1,2,5,4]. Only the latter survives and is inserted in the decision tree. Path [1,5,2] is at vertex 2 which can go to 1 [1,5,2,1], to 3 [1,5,2,3] or to 5 [1,5,2,5]. Only the second path survives and is inserted in the decision tree. Analysing now [1,5,4] we see that we can go to 3 [1,5,4,3], to 5 [1,5,4,5] or to 6 [1,5,4,6]. The second one is dropped and the other two are insereted in the decision tree.\n",
    "\n",
    "At depth 3 we have four paths. Paths [1,5,2,3] and [1,5,4,3] lead to the destination and thus are written in the paths' list. Path [1,2,5,4] can go to 3 [1,2,5,4,3], to 5 [1,2,5,4,5] or to 6 [1,2,5,4,6]. The second path passes through a vertex two times and is thus dropped. The other two are inserted in the tree. Path [1,5,4,6] can go only to 4 [1,5,4,6,4] and is dropped because it loops.\n",
    "\n",
    "At depth 4 we have only [1,2,5,4,3] and [1,2,5,4,6]. The first one arrives at destination and is written in the paths' list. The second one can go only to 4 [1,2,5,4,6,4] and is dropped because it loops. We do not have any paths left to explore and the algorithm finishes.\n",
    "\n",
    "<img src=\"http://www.paolocoletti.it/algorithmicthinking/images/paths.jpg\">"
   ]
  },
  {
   "cell_type": "markdown",
   "metadata": {},
   "source": [
    "## Writing the code"
   ]
  },
  {
   "cell_type": "markdown",
   "metadata": {},
   "source": [
    "Your task is to write a procedure that finds all the paths between the two vertices of a graph. The procedure receives the adjacency matrix, the two vertices indexes and returns a list of paths. "
   ]
  },
  {
   "cell_type": "code",
   "execution_count": null,
   "metadata": {},
   "outputs": [],
   "source": [
    "# we assign the names of the vertices, otherwise Python will have to use its indexes which start from 0 :-(\n",
    "names=[\"1\",\"2\",\"3\",\"4\",\"5\",\"6\"]\n",
    "\n",
    "# we set up the adjacency matrix\n",
    "matrix=[\n",
    "[0,1,0,0,1,0],\n",
    "[1,0,1,0,1,0],\n",
    "[0,1,0,1,0,0],\n",
    "[0,0,1,0,1,1],\n",
    "[1,1,0,1,0,0],\n",
    "[0,0,0,1,0,0]\n",
    "]\n",
    "\n",
    "def findPaths(matrix,a,b):\n",
    "    finalPaths=[] # this is the structure which will contain the output\n",
    "    \n",
    "    # set up the data structure partialPaths and put inside the root of the decision tree, i.e. a list which contains the path in the root (see picture above)\n",
    "    # write code here\n",
    "    \n",
    "    \n",
    "    while len(partialPaths)>0: # we loop until we have some partialPaths inside\n",
    "        print(partialPaths) # for debugging\n",
    "        \n",
    "        # take out the first path in the partialPaths structure\n",
    "        # write code here\n",
    "    \n",
    "    \n",
    "        # check whether its last vertex is the destination and if it is put it into the finalPaths\n",
    "        # write code here\n",
    "\n",
    "        \n",
    "        # if it is not, take the corresponding row in the matrix and go through all its elements.\n",
    "        # write code here\n",
    "        \n",
    "\n",
    "        \n",
    "            # if the element is zero, ignore it. If the element is contained in the path, it is a loop and ignore it.\n",
    "            # otherwise, append that element to the path and insert the newly created path at the end of the structure partialPaths \n",
    "            # (as it is a deeper path)\n",
    "            # write code here\n",
    "            \n",
    "        \n",
    "    return finalPaths\n",
    "\n",
    "# now you can print the result with print findPaths(matrix) to check it\n",
    "print(findPaths(matrix))\n",
    "\n",
    "# and then comment the previous statement and write instead the result in a human readable way, \n",
    "# in particular using the names defined above in the names list and not the pythonic indexes.\n",
    "# write code here\n",
    "\n",
    "# for example, Python program will give you as a solution the path 0 1 2 (using pythonic indexes) and\n",
    "# for it I would like to see the human readable format:\n",
    "# path is: 1 2 3\n",
    "# you obviously use names[index]\n",
    "\n",
    "\n",
    "\n"
   ]
  },
  {
   "cell_type": "code",
   "execution_count": null,
   "metadata": {},
   "outputs": [],
   "source": []
  },
  {
   "cell_type": "markdown",
   "metadata": {},
   "source": [
    "# Maximum flow problem"
   ]
  },
  {
   "cell_type": "markdown",
   "metadata": {},
   "source": [
    "We start from a undirected or directed graph with weights. We would like to send items (you can imagine products or energy) from the first vertex to the last one and we want to maximise the amount of items which arrives at the last vertex. The flow can take different paths and we would like to know how many items to transfer from each vertex to the next one."
   ]
  },
  {
   "cell_type": "markdown",
   "metadata": {},
   "source": [
    "## Data structure"
   ]
  },
  {
   "cell_type": "markdown",
   "metadata": {},
   "source": [
    "As usual we use the adjacency matrix to indicate whether two vertices are connected and how much flow can pass between them. To indicate how many items we actually want to move from a vertex to another we use a similar matrix that we call <b>flow matrix</b>. Clearly, the values in this latter matrix must be smaller than the values in the former matrix. At the beginning the flow matrix must have only zeros, to indicate that nothing is being moved. "
   ]
  },
  {
   "cell_type": "markdown",
   "metadata": {},
   "source": [
    "## Edmonds–Karp algorithm"
   ]
  },
  {
   "cell_type": "markdown",
   "metadata": {},
   "source": [
    "There are several algorithms to solve this problem and we will illustrate the Edmonds-Karp algorithm, one of the easiest ones.\n",
    "\n",
    "<img src=\"http://www.paolocoletti.it/algorithmicthinking/images/Edmonds-Karp1.png\">\n",
    "\n",
    "As usual we see it through an example on the graph depicted here. The first number represents the current flow which at the beginning is set to zero and the second one represents the maximum flow.  \n",
    "\n",
    "First of all this algorithm finds all the paths from the source to the destination and puts them in length order. It then takes the shortest one A-D-E-G and assigns to it the maximum flow which can pass through. In our example it is 1 as the E-G connection only allows for 1 item to pass.\n",
    "\n",
    "<img src=\"http://www.paolocoletti.it/algorithmicthinking/images/Edmonds-Karp2.png\">\n",
    "\n",
    "Then it takes the second shortest path which is A-D-F-G. However, when considering its maximum flow we must now pay attention because some edges are already partially or fully used. Therefore, instead of considering the adjacency matrix, we consider the adjacency minus the flow matrix as you cen see in the picture above. Therefore through this path only 2 items can pass.\n",
    "\n",
    "<img src=\"http://www.paolocoletti.it/algorithmicthinking/images/Edmonds-Karp3.png\">\n",
    "\n",
    "The next path would be A-B-C-E-G but nothing can pass through this path. So we take the next  A-B-C-D-F-G with maximum flow, according to the current situation, 1.\n",
    "\n",
    "<img src=\"http://www.paolocoletti.it/algorithmicthinking/images/Edmonds-Karp4.png\">\n",
    "\n"
   ]
  },
  {
   "cell_type": "markdown",
   "metadata": {},
   "source": [
    "## The code"
   ]
  },
  {
   "cell_type": "markdown",
   "metadata": {},
   "source": [
    "Now it is your task to write the code for this graph."
   ]
  },
  {
   "cell_type": "code",
   "execution_count": null,
   "metadata": {},
   "outputs": [],
   "source": [
    "names=[\"A\",\"B\",\"C\",\"D\",\"E\",\"F\",\"G\"]\n",
    "adjacencyMatrix=[\n",
    "    [0,3,0,3,0,0,0],\n",
    "    [0,0,4,0,0,0,0],\n",
    "    [3,0,0,1,2,0,0],\n",
    "    [0,0,0,0,2,6,0],\n",
    "    [0,1,0,0,0,0,1],\n",
    "    [0,0,0,0,0,0,9],\n",
    "    [0,0,0,0,0,0,0]\n",
    "]\n",
    "flowMatrix=[\n",
    "    [0,0,0,0,0,0,0],\n",
    "    [0,0,0,0,0,0,0],\n",
    "    [0,0,0,0,0,0,0],\n",
    "    [0,0,0,0,0,0,0],\n",
    "    [0,0,0,0,0,0,0],\n",
    "    [0,0,0,0,0,0,0],\n",
    "    [0,0,0,0,0,0,0]\n",
    "]\n",
    "\n",
    "\n",
    "paths=findPaths(adjacencyMatrix,0,6)\n",
    "\n",
    "for x in paths:\n",
    "    # for each path x you must calculate the maximum flow which can pass through considering \n",
    "    # as matrix the adjaciency matrix minus the flow matrix. \n",
    "    # To do it, go through the path step by step\n",
    "\n",
    "    \n",
    "    print(\"path\",x,\"has a residual capacity of\",capacity)\n",
    "    # if the maximum flow which can pass is larger than 0 update the flowMatrix appropriately\n",
    "\n",
    "    \n",
    "    \n",
    "    \n",
    "# it's done!!!\n",
    "# the only thing remaning is displaying to the user in a readable was each edge which \n",
    "# has a flow different from 0 with the number of items to pass\n",
    "\n",
    "\n"
   ]
  },
  {
   "cell_type": "markdown",
   "metadata": {},
   "source": [
    "### Algorithm is not correct!"
   ]
  },
  {
   "cell_type": "markdown",
   "metadata": {},
   "source": [
    "Unfortunately the algorithm is not correct! Look at the picture\n",
    "\n",
    "<img src=\"http://www.paolocoletti.it/algorithmicthinking/images/Edmonds-Karp4.png\">\n",
    "\n",
    "If instead of sending that 1 item from D to E and from E to G, which unfortunately uses up all the flow from E to G, we send it from D to F and from F to G, we could send an item through the path A B C E G. In this was the total flow from A to G would be increased by 1!\n",
    "\n",
    "How can we instruct the algorithm to change its mind and correct some partial routes?\n",
    "\n",
    "We can use a trick. Changing your mind is equivalent to sending an item back (obviously in a real application you do not send an item back and forth, you already know the solution and simply do not send the item). So, whenever we insert a value in the flow matrix, e.g. from vertex i to j, we insert at the same time an equivalent negative flow from j to i. This negative flow is not real, also because from j to i there might not be a connection, but having a negative flow there automatically lets the algorithm change its mind.\n",
    "\n",
    "<img src=\"http://www.paolocoletti.it/algorithmicthinking/images/Edmonds-Karp5.png\">\n",
    "\n",
    "Another little tweak that you need to make is allowing for paths to go back. Thus <b>only for calculating the paths</b> you need to use a symmetric adjacency matrix, i.e. whenever the value at place i,j is larger than 0 set also the corresponding value at j,i larger than 0 (in case it is not). Beware that this matrix must be used only for finding paths, for the rest of the algorithm use the adjacency matrix of the original input."
   ]
  },
  {
   "cell_type": "markdown",
   "metadata": {},
   "source": [
    "### The new code"
   ]
  },
  {
   "cell_type": "markdown",
   "metadata": {},
   "source": [
    "Now your task is to modify the previous code. It seems incredible, but you simply need to put the negative flows and everything works. Pay obviously attention to accept only positive flows and to print at the end only positive flows."
   ]
  },
  {
   "cell_type": "code",
   "execution_count": null,
   "metadata": {},
   "outputs": [],
   "source": []
  }
 ],
 "metadata": {
  "kernelspec": {
   "display_name": "Python 3",
   "language": "python",
   "name": "python3"
  },
  "language_info": {
   "codemirror_mode": {
    "name": "ipython",
    "version": 3
   },
   "file_extension": ".py",
   "mimetype": "text/x-python",
   "name": "python",
   "nbconvert_exporter": "python",
   "pygments_lexer": "ipython3",
   "version": "3.8.3"
  }
 },
 "nbformat": 4,
 "nbformat_minor": 2
}
